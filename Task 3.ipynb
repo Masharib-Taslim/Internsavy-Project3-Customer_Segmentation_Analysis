{
 "cells": [
  {
   "cell_type": "code",
   "execution_count": 1,
   "id": "0fd1f127",
   "metadata": {},
   "outputs": [],
   "source": [
    "import pandas as pd\n",
    "import numpy as np\n",
    "import matplotlib.pyplot as plt\n",
    "import seaborn as sns"
   ]
  },
  {
   "cell_type": "code",
   "execution_count": 2,
   "id": "e3b0709e",
   "metadata": {},
   "outputs": [],
   "source": [
    "data = pd.read_csv(\"Mall_Customers.csv\")"
   ]
  },
  {
   "cell_type": "code",
   "execution_count": 3,
   "id": "2b8907ac",
   "metadata": {},
   "outputs": [
    {
     "data": {
      "text/html": [
       "<div>\n",
       "<style scoped>\n",
       "    .dataframe tbody tr th:only-of-type {\n",
       "        vertical-align: middle;\n",
       "    }\n",
       "\n",
       "    .dataframe tbody tr th {\n",
       "        vertical-align: top;\n",
       "    }\n",
       "\n",
       "    .dataframe thead th {\n",
       "        text-align: right;\n",
       "    }\n",
       "</style>\n",
       "<table border=\"1\" class=\"dataframe\">\n",
       "  <thead>\n",
       "    <tr style=\"text-align: right;\">\n",
       "      <th></th>\n",
       "      <th>CustomerID</th>\n",
       "      <th>Gender</th>\n",
       "      <th>Age</th>\n",
       "      <th>Annual Income (k$)</th>\n",
       "      <th>Spending Score (1-100)</th>\n",
       "    </tr>\n",
       "  </thead>\n",
       "  <tbody>\n",
       "    <tr>\n",
       "      <th>0</th>\n",
       "      <td>1</td>\n",
       "      <td>Male</td>\n",
       "      <td>19</td>\n",
       "      <td>15</td>\n",
       "      <td>39</td>\n",
       "    </tr>\n",
       "    <tr>\n",
       "      <th>1</th>\n",
       "      <td>2</td>\n",
       "      <td>Male</td>\n",
       "      <td>21</td>\n",
       "      <td>15</td>\n",
       "      <td>81</td>\n",
       "    </tr>\n",
       "    <tr>\n",
       "      <th>2</th>\n",
       "      <td>3</td>\n",
       "      <td>Female</td>\n",
       "      <td>20</td>\n",
       "      <td>16</td>\n",
       "      <td>6</td>\n",
       "    </tr>\n",
       "    <tr>\n",
       "      <th>3</th>\n",
       "      <td>4</td>\n",
       "      <td>Female</td>\n",
       "      <td>23</td>\n",
       "      <td>16</td>\n",
       "      <td>77</td>\n",
       "    </tr>\n",
       "    <tr>\n",
       "      <th>4</th>\n",
       "      <td>5</td>\n",
       "      <td>Female</td>\n",
       "      <td>31</td>\n",
       "      <td>17</td>\n",
       "      <td>40</td>\n",
       "    </tr>\n",
       "  </tbody>\n",
       "</table>\n",
       "</div>"
      ],
      "text/plain": [
       "   CustomerID  Gender  Age  Annual Income (k$)  Spending Score (1-100)\n",
       "0           1    Male   19                  15                      39\n",
       "1           2    Male   21                  15                      81\n",
       "2           3  Female   20                  16                       6\n",
       "3           4  Female   23                  16                      77\n",
       "4           5  Female   31                  17                      40"
      ]
     },
     "execution_count": 3,
     "metadata": {},
     "output_type": "execute_result"
    }
   ],
   "source": [
    "data.head()"
   ]
  },
  {
   "cell_type": "code",
   "execution_count": 4,
   "id": "e13247ae",
   "metadata": {},
   "outputs": [
    {
     "data": {
      "text/html": [
       "<div>\n",
       "<style scoped>\n",
       "    .dataframe tbody tr th:only-of-type {\n",
       "        vertical-align: middle;\n",
       "    }\n",
       "\n",
       "    .dataframe tbody tr th {\n",
       "        vertical-align: top;\n",
       "    }\n",
       "\n",
       "    .dataframe thead th {\n",
       "        text-align: right;\n",
       "    }\n",
       "</style>\n",
       "<table border=\"1\" class=\"dataframe\">\n",
       "  <thead>\n",
       "    <tr style=\"text-align: right;\">\n",
       "      <th></th>\n",
       "      <th>CustomerID</th>\n",
       "      <th>Gender</th>\n",
       "      <th>Age</th>\n",
       "      <th>Annual Income (k$)</th>\n",
       "      <th>Spending Score (1-100)</th>\n",
       "    </tr>\n",
       "  </thead>\n",
       "  <tbody>\n",
       "    <tr>\n",
       "      <th>195</th>\n",
       "      <td>196</td>\n",
       "      <td>Female</td>\n",
       "      <td>35</td>\n",
       "      <td>120</td>\n",
       "      <td>79</td>\n",
       "    </tr>\n",
       "    <tr>\n",
       "      <th>196</th>\n",
       "      <td>197</td>\n",
       "      <td>Female</td>\n",
       "      <td>45</td>\n",
       "      <td>126</td>\n",
       "      <td>28</td>\n",
       "    </tr>\n",
       "    <tr>\n",
       "      <th>197</th>\n",
       "      <td>198</td>\n",
       "      <td>Male</td>\n",
       "      <td>32</td>\n",
       "      <td>126</td>\n",
       "      <td>74</td>\n",
       "    </tr>\n",
       "    <tr>\n",
       "      <th>198</th>\n",
       "      <td>199</td>\n",
       "      <td>Male</td>\n",
       "      <td>32</td>\n",
       "      <td>137</td>\n",
       "      <td>18</td>\n",
       "    </tr>\n",
       "    <tr>\n",
       "      <th>199</th>\n",
       "      <td>200</td>\n",
       "      <td>Male</td>\n",
       "      <td>30</td>\n",
       "      <td>137</td>\n",
       "      <td>83</td>\n",
       "    </tr>\n",
       "  </tbody>\n",
       "</table>\n",
       "</div>"
      ],
      "text/plain": [
       "     CustomerID  Gender  Age  Annual Income (k$)  Spending Score (1-100)\n",
       "195         196  Female   35                 120                      79\n",
       "196         197  Female   45                 126                      28\n",
       "197         198    Male   32                 126                      74\n",
       "198         199    Male   32                 137                      18\n",
       "199         200    Male   30                 137                      83"
      ]
     },
     "execution_count": 4,
     "metadata": {},
     "output_type": "execute_result"
    }
   ],
   "source": [
    "data.tail()"
   ]
  },
  {
   "cell_type": "code",
   "execution_count": 72,
   "id": "9940ed65",
   "metadata": {},
   "outputs": [
    {
     "data": {
      "text/plain": [
       "(200, 5)"
      ]
     },
     "execution_count": 72,
     "metadata": {},
     "output_type": "execute_result"
    }
   ],
   "source": [
    "data.shape"
   ]
  },
  {
   "cell_type": "code",
   "execution_count": 5,
   "id": "e0e7411b",
   "metadata": {},
   "outputs": [
    {
     "name": "stdout",
     "output_type": "stream",
     "text": [
      "<class 'pandas.core.frame.DataFrame'>\n",
      "RangeIndex: 200 entries, 0 to 199\n",
      "Data columns (total 5 columns):\n",
      " #   Column                  Non-Null Count  Dtype \n",
      "---  ------                  --------------  ----- \n",
      " 0   CustomerID              200 non-null    int64 \n",
      " 1   Gender                  200 non-null    object\n",
      " 2   Age                     200 non-null    int64 \n",
      " 3   Annual Income (k$)      200 non-null    int64 \n",
      " 4   Spending Score (1-100)  200 non-null    int64 \n",
      "dtypes: int64(4), object(1)\n",
      "memory usage: 7.9+ KB\n"
     ]
    }
   ],
   "source": [
    "data.info()"
   ]
  },
  {
   "cell_type": "markdown",
   "id": "e3c18a63",
   "metadata": {},
   "source": [
    "# Analysis 1"
   ]
  },
  {
   "cell_type": "code",
   "execution_count": 6,
   "id": "0363310c",
   "metadata": {},
   "outputs": [],
   "source": [
    "genders= data.Gender.value_counts()"
   ]
  },
  {
   "cell_type": "code",
   "execution_count": 7,
   "id": "e3145ffd",
   "metadata": {},
   "outputs": [
    {
     "data": {
      "text/plain": [
       "<AxesSubplot:>"
      ]
     },
     "execution_count": 7,
     "metadata": {},
     "output_type": "execute_result"
    },
    {
     "data": {
      "image/png": "[encoded data removed]",
      "text/plain": [
       "<Figure size 432x288 with 1 Axes>"
      ]
     },
     "metadata": {
      "needs_background": "light"
     },
     "output_type": "display_data"
    }
   ],
   "source": [
    "sns.barplot(x=genders.index, y=genders.values)"
   ]
  },
  {
   "cell_type": "markdown",
   "id": "1a8d582e",
   "metadata": {},
   "source": [
    "# Analysis 2"
   ]
  },
  {
   "cell_type": "code",
   "execution_count": 36,
   "id": "e6c11e18",
   "metadata": {},
   "outputs": [],
   "source": [
    "age18_25=data.Age[(data.Age<=25)&(data.Age>=18)]\n",
    "age26_35=data.Age[(data.Age<=35)&(data.Age>=26)]\n",
    "age36_45=data.Age[(data.Age<=45)&(data.Age>=36)]\n",
    "age46_55=data.Age[(data.Age<=55)&(data.Age>=46)]\n",
    "age55_above=data.Age[(data.Age>=56)]"
   ]
  },
  {
   "cell_type": "code",
   "execution_count": 37,
   "id": "c88699c9",
   "metadata": {},
   "outputs": [],
   "source": [
    "data_x=['18-25','26-35','36-45','46-55','55above']\n",
    "data_y=[len(age18_25.values),len(age26_35.values),len(age36_45.values),len(age46_55.values),len(age55_above.values)]\n"
   ]
  },
  {
   "cell_type": "code",
   "execution_count": 39,
   "id": "4c0cf2bf",
   "metadata": {},
   "outputs": [
    {
     "data": {
      "image/png": "[encoded data removed]",
      "text/plain": [
       "<Figure size 432x288 with 1 Axes>"
      ]
     },
     "metadata": {
      "needs_background": "light"
     },
     "output_type": "display_data"
    }
   ],
   "source": [
    "plt.title('Number of customer with their ages')\n",
    "plt.xlabel('Ages')\n",
    "plt.ylabel('Number of customers')\n",
    "sns.barplot(x=data_x,y=data_y)\n",
    "plt.show()"
   ]
  },
  {
   "cell_type": "markdown",
   "id": "51e75520",
   "metadata": {},
   "source": [
    "# Analysis 3"
   ]
  },
  {
   "cell_type": "code",
   "execution_count": 44,
   "id": "71e5048e",
   "metadata": {},
   "outputs": [],
   "source": [
    "inc0_30=data[\"Annual Income (k$)\"][(data[\"Annual Income (k$)\"]>=0)&(data[\"Annual Income (k$)\"]<=30)]\n",
    "inc31_60=data[\"Annual Income (k$)\"][(data[\"Annual Income (k$)\"]>=31)&(data[\"Annual Income (k$)\"]<=60)]\n",
    "inc61_90=data[\"Annual Income (k$)\"][(data[\"Annual Income (k$)\"]>=61)&(data[\"Annual Income (k$)\"]<=90)]\n",
    "inc91_120=data[\"Annual Income (k$)\"][(data[\"Annual Income (k$)\"]>=91)&(data[\"Annual Income (k$)\"]<=120)]\n",
    "inc121_150=data[\"Annual Income (k$)\"][(data[\"Annual Income (k$)\"]>=121)&(data[\"Annual Income (k$)\"]<=150)]"
   ]
  },
  {
   "cell_type": "code",
   "execution_count": 45,
   "id": "f037d44b",
   "metadata": {},
   "outputs": [],
   "source": [
    "x=['0-30','31-60','61-90','91-120','121-150']\n",
    "y=[len(inc0_30.values),len(inc31_60.values),len(inc61_90.values),len(inc91_120.values),len(inc121_150.values)]"
   ]
  },
  {
   "cell_type": "code",
   "execution_count": 46,
   "id": "166ed8bb",
   "metadata": {},
   "outputs": [
    {
     "data": {
      "image/png": "[encoded data removed]",
      "text/plain": [
       "<Figure size 432x288 with 1 Axes>"
      ]
     },
     "metadata": {
      "needs_background": "light"
     },
     "output_type": "display_data"
    }
   ],
   "source": [
    "plt.title('Number of customer with their Annual Incomes')\n",
    "plt.xlabel('Annual Income')\n",
    "plt.ylabel('Number of customers')\n",
    "sns.barplot(x=x,y=y)\n",
    "plt.show()"
   ]
  },
  {
   "cell_type": "markdown",
   "id": "afbc752a",
   "metadata": {},
   "source": [
    "# Analysis 4"
   ]
  },
  {
   "cell_type": "code",
   "execution_count": 63,
   "id": "01e3d0d6",
   "metadata": {},
   "outputs": [],
   "source": [
    "F_data=data[data['Gender'] == 'Female']"
   ]
  },
  {
   "cell_type": "code",
   "execution_count": 64,
   "id": "b435f193",
   "metadata": {},
   "outputs": [
    {
     "data": {
      "text/html": [
       "<div>\n",
       "<style scoped>\n",
       "    .dataframe tbody tr th:only-of-type {\n",
       "        vertical-align: middle;\n",
       "    }\n",
       "\n",
       "    .dataframe tbody tr th {\n",
       "        vertical-align: top;\n",
       "    }\n",
       "\n",
       "    .dataframe thead th {\n",
       "        text-align: right;\n",
       "    }\n",
       "</style>\n",
       "<table border=\"1\" class=\"dataframe\">\n",
       "  <thead>\n",
       "    <tr style=\"text-align: right;\">\n",
       "      <th></th>\n",
       "      <th>CustomerID</th>\n",
       "      <th>Gender</th>\n",
       "      <th>Age</th>\n",
       "      <th>Annual Income (k$)</th>\n",
       "      <th>Spending Score (1-100)</th>\n",
       "    </tr>\n",
       "  </thead>\n",
       "  <tbody>\n",
       "    <tr>\n",
       "      <th>2</th>\n",
       "      <td>3</td>\n",
       "      <td>Female</td>\n",
       "      <td>20</td>\n",
       "      <td>16</td>\n",
       "      <td>6</td>\n",
       "    </tr>\n",
       "    <tr>\n",
       "      <th>3</th>\n",
       "      <td>4</td>\n",
       "      <td>Female</td>\n",
       "      <td>23</td>\n",
       "      <td>16</td>\n",
       "      <td>77</td>\n",
       "    </tr>\n",
       "    <tr>\n",
       "      <th>4</th>\n",
       "      <td>5</td>\n",
       "      <td>Female</td>\n",
       "      <td>31</td>\n",
       "      <td>17</td>\n",
       "      <td>40</td>\n",
       "    </tr>\n",
       "    <tr>\n",
       "      <th>5</th>\n",
       "      <td>6</td>\n",
       "      <td>Female</td>\n",
       "      <td>22</td>\n",
       "      <td>17</td>\n",
       "      <td>76</td>\n",
       "    </tr>\n",
       "    <tr>\n",
       "      <th>6</th>\n",
       "      <td>7</td>\n",
       "      <td>Female</td>\n",
       "      <td>35</td>\n",
       "      <td>18</td>\n",
       "      <td>6</td>\n",
       "    </tr>\n",
       "    <tr>\n",
       "      <th>...</th>\n",
       "      <td>...</td>\n",
       "      <td>...</td>\n",
       "      <td>...</td>\n",
       "      <td>...</td>\n",
       "      <td>...</td>\n",
       "    </tr>\n",
       "    <tr>\n",
       "      <th>191</th>\n",
       "      <td>192</td>\n",
       "      <td>Female</td>\n",
       "      <td>32</td>\n",
       "      <td>103</td>\n",
       "      <td>69</td>\n",
       "    </tr>\n",
       "    <tr>\n",
       "      <th>193</th>\n",
       "      <td>194</td>\n",
       "      <td>Female</td>\n",
       "      <td>38</td>\n",
       "      <td>113</td>\n",
       "      <td>91</td>\n",
       "    </tr>\n",
       "    <tr>\n",
       "      <th>194</th>\n",
       "      <td>195</td>\n",
       "      <td>Female</td>\n",
       "      <td>47</td>\n",
       "      <td>120</td>\n",
       "      <td>16</td>\n",
       "    </tr>\n",
       "    <tr>\n",
       "      <th>195</th>\n",
       "      <td>196</td>\n",
       "      <td>Female</td>\n",
       "      <td>35</td>\n",
       "      <td>120</td>\n",
       "      <td>79</td>\n",
       "    </tr>\n",
       "    <tr>\n",
       "      <th>196</th>\n",
       "      <td>197</td>\n",
       "      <td>Female</td>\n",
       "      <td>45</td>\n",
       "      <td>126</td>\n",
       "      <td>28</td>\n",
       "    </tr>\n",
       "  </tbody>\n",
       "</table>\n",
       "<p>112 rows × 5 columns</p>\n",
       "</div>"
      ],
      "text/plain": [
       "     CustomerID  Gender  Age  Annual Income (k$)  Spending Score (1-100)\n",
       "2             3  Female   20                  16                       6\n",
       "3             4  Female   23                  16                      77\n",
       "4             5  Female   31                  17                      40\n",
       "5             6  Female   22                  17                      76\n",
       "6             7  Female   35                  18                       6\n",
       "..          ...     ...  ...                 ...                     ...\n",
       "191         192  Female   32                 103                      69\n",
       "193         194  Female   38                 113                      91\n",
       "194         195  Female   47                 120                      16\n",
       "195         196  Female   35                 120                      79\n",
       "196         197  Female   45                 126                      28\n",
       "\n",
       "[112 rows x 5 columns]"
      ]
     },
     "execution_count": 64,
     "metadata": {},
     "output_type": "execute_result"
    }
   ],
   "source": [
    "F_data"
   ]
  },
  {
   "cell_type": "code",
   "execution_count": 67,
   "id": "016dedb9",
   "metadata": {},
   "outputs": [],
   "source": [
    "F_age18_25=F_data.Age[(F_data.Age<=25)&(F_data.Age>=18)]\n",
    "F_age26_35=F_data.Age[(F_data.Age<=35)&(F_data.Age>=26)]\n",
    "F_age36_45=F_data.Age[(F_data.Age<=45)&(F_data.Age>=36)]\n",
    "F_age46_55=F_data.Age[(F_data.Age<=55)&(F_data.Age>=46)]\n",
    "F_age55_above=F_data.Age[(F_data.Age>=56)]"
   ]
  },
  {
   "cell_type": "code",
   "execution_count": 68,
   "id": "03578b69",
   "metadata": {},
   "outputs": [],
   "source": [
    "Fdata_x=['18-25','26-35','36-45','46-55','55above']\n",
    "Fdata_y=[len(F_age18_25.values),len(F_age26_35.values),len(F_age36_45.values),len(F_age46_55.values),len(F_age55_above.values)]"
   ]
  },
  {
   "cell_type": "code",
   "execution_count": 69,
   "id": "d2aeb9c5",
   "metadata": {},
   "outputs": [
    {
     "data": {
      "image/png": "[encoded data removed]",
      "text/plain": [
       "<Figure size 432x288 with 1 Axes>"
      ]
     },
     "metadata": {
      "needs_background": "light"
     },
     "output_type": "display_data"
    }
   ],
   "source": [
    "plt.title('Number of Female customer with their ages')\n",
    "plt.xlabel('Ages')\n",
    "plt.ylabel('Number of Female customers')\n",
    "sns.barplot(x=Fdata_x,y=Fdata_y)\n",
    "plt.show()"
   ]
  },
  {
   "cell_type": "markdown",
   "id": "81d1f995",
   "metadata": {},
   "source": [
    "Conclusion:\n",
    "~ Female Customers visit store more than Male Customer.\n",
    "          ~ Most of Customer's age lies between 26 to 35.\n",
    "~ Most of Customer having income between 61 to 90 (k$).\n",
    "~ Most of customers are female between the age of 26 to 35.\n"
   ]
  },
  {
   "cell_type": "code",
   "execution_count": null,
   "id": "2334f68e",
   "metadata": {},
   "outputs": [],
   "source": []
  }
 ],
 "metadata": {
  "kernelspec": {
   "display_name": "Python 3 (ipykernel)",
   "language": "python",
   "name": "python3"
  },
  "language_info": {
   "codemirror_mode": {
    "name": "ipython",
    "version": 3
   },
   "file_extension": ".py",
   "mimetype": "text/x-python",
   "name": "python",
   "nbconvert_exporter": "python",
   "pygments_lexer": "ipython3",
   "version": "3.9.12"
  }
 },
 "nbformat": 4,
 "nbformat_minor": 5
}
